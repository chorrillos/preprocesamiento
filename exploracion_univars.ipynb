{
 "cells": [
  {
   "cell_type": "code",
   "execution_count": null,
   "id": "d00d7de0",
   "metadata": {},
   "outputs": [],
   "source": [
    "link=\"https://github.com/chorrillos/preprocesamiento/raw/main/datadismap.gpkg\"\n",
    "datadismap = gpd.read_file(link, layer='DISTRITO')"
   ]
  }
 ],
 "metadata": {
  "hide_input": false,
  "kernelspec": {
   "display_name": "Python 3 (ipykernel)",
   "language": "python",
   "name": "python3"
  },
  "language_info": {
   "codemirror_mode": {
    "name": "ipython",
    "version": 3
   },
   "file_extension": ".py",
   "mimetype": "text/x-python",
   "name": "python",
   "nbconvert_exporter": "python",
   "pygments_lexer": "ipython3",
   "version": "3.8.12"
  }
 },
 "nbformat": 4,
 "nbformat_minor": 5
}
