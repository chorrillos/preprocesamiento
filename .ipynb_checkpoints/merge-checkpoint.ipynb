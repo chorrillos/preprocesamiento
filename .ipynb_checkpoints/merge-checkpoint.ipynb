{
 "cells": [
  {
   "cell_type": "markdown",
   "id": "044daaf5",
   "metadata": {},
   "source": [
    "Data organizada:"
   ]
  },
  {
   "cell_type": "code",
   "execution_count": null,
   "id": "a31450dc",
   "metadata": {},
   "outputs": [],
   "source": [
    "import pandas as pd\n",
    "\n",
    "linkGoogle=\"https://docs.google.com/spreadsheets/d/e/2PACX-1vTGGxCfvJdmpImkqtl9m2AhvnBdV8T6xl03DVoMAYTrvZB_DImLJL3oJIfhELELXMJuwA2-UwNdmELH/pub?gid=421607132&single=true&output=csv\"\n",
    "datadis=pd.read_csv(linkGoogle)"
   ]
  },
  {
   "cell_type": "code",
   "execution_count": null,
   "id": "79a486c4",
   "metadata": {},
   "outputs": [],
   "source": [
    "datadis.head()"
   ]
  },
  {
   "cell_type": "markdown",
   "id": "4ed73040",
   "metadata": {},
   "source": [
    "Mapa distrital:"
   ]
  },
  {
   "cell_type": "code",
   "execution_count": null,
   "id": "abc1ed04",
   "metadata": {},
   "outputs": [],
   "source": [
    "import geopandas as gpd\n",
    "\n",
    "linkGit=\"https://github.com/chorrillos/preprocesamiento/raw/main/distritos/DistritosMap.zip\"\n",
    "datadismap=gpd.read_file(linkGit)"
   ]
  },
  {
   "cell_type": "code",
   "execution_count": null,
   "id": "2d49eb88",
   "metadata": {},
   "outputs": [],
   "source": [
    "datadismap.head()"
   ]
  },
  {
   "cell_type": "markdown",
   "id": "a1294312",
   "metadata": {},
   "source": [
    "Limpieza de datos:"
   ]
  },
  {
   "cell_type": "code",
   "execution_count": null,
   "id": "393ddef9",
   "metadata": {},
   "outputs": [],
   "source": [
    "#todo mayuscula sin blanco delante ni cola \n",
    "\n",
    "datadis[['Provincia','Distrito']]=datadis[['Provincia','Distrito']].apply(lambda x: x.str.upper().str.strip())\n",
    "datadismap[['PROVINCIA','DISTRITO']]=datadismap[['PROVINCIA','DISTRITO']].apply(lambda x: x.str.upper().str.strip())\n",
    "\n",
    "# completando nombres\n",
    "datadis.loc[datadis['Provincia']=='CARLOS FERMIN FITZCA', 'Provincia']='CARLOS FERMIN FITZCARRALD'\n",
    "datadis.loc[datadis['Provincia']=='CONTRALMIRANTE VILLA', 'Provincia']='CONTRALMIRANTE VILLAR'\n",
    "datadis.loc[datadis['Provincia']=='DANIEL ALCIDES CARRI', 'Provincia']='DANIEL ALCIDES CARRION'\n",
    "datadis.loc[datadis['Provincia']=='GENERAL SANCHEZ CERR', 'Provincia']='GENERAL SANCHEZ CERRO'\n",
    "datadis.loc[datadis['Provincia']=='SAN ANTONIO DE PUTIN', 'Provincia']='SAN ANTONIO DE PUTINA'"
   ]
  },
  {
   "cell_type": "code",
   "execution_count": null,
   "id": "47cdc538",
   "metadata": {},
   "outputs": [],
   "source": [
    "\n",
    "import unidecode\n",
    "\n",
    "# concatenando\n",
    "datadis['provDist']=[\"+\".join(pd) for pd in zip (datadis.Provincia,datadis.Distrito)]\n",
    "datadismap['provDist']=[\"+\".join(pd) for pd in zip (datadismap.PROVINCIA,datadismap.DISTRITO)]\n",
    "\n",
    "\n",
    "# eliminando simbolos \n",
    "datadis.provDist=[unidecode.unidecode(dist) for dist in datadis.provDist]\n",
    "datadismap.provDist=[unidecode.unidecode(dist) for dist in datadismap.provDist]\n",
    "\n",
    "# reemplazando guiones y espacios multiples por espacio simple\n",
    "datadis.provDist=datadis.provDist.str.replace(\"\\-|\\_|\\s+\",\" \",regex=True)\n",
    "datadismap.provDist=datadismap.provDist.str.replace(\"\\-|\\_|\\s+\",\" \",regex=True)"
   ]
  },
  {
   "cell_type": "code",
   "execution_count": null,
   "id": "e24896ad",
   "metadata": {},
   "outputs": [],
   "source": [
    "# key de data organizada\n",
    "sorted(datadis.provDist.to_list())"
   ]
  },
  {
   "cell_type": "code",
   "execution_count": null,
   "id": "01235342",
   "metadata": {},
   "outputs": [],
   "source": [
    "# key de data del mapa\n",
    "sorted(datadismap.provDist.to_list())"
   ]
  },
  {
   "cell_type": "code",
   "execution_count": null,
   "id": "793335e5",
   "metadata": {},
   "outputs": [],
   "source": [
    "# valores sin march\n",
    "sinmatchcsv=list(set(datadis.provDist)- set(datadismap.provDist))\n",
    "sinmatchshp=list(set(datadismap.provDist)-set(datadis.provDist) )"
   ]
  },
  {
   "cell_type": "code",
   "execution_count": null,
   "id": "ada23390",
   "metadata": {},
   "outputs": [],
   "source": [
    "len(sinmatchcsv), len(sinmatchshp)"
   ]
  },
  {
   "cell_type": "markdown",
   "id": "44dd4df9",
   "metadata": {},
   "source": [
    "Merge difuso"
   ]
  },
  {
   "cell_type": "code",
   "execution_count": null,
   "id": "d761c590",
   "metadata": {},
   "outputs": [],
   "source": [
    "from thefuzz import process\n",
    "[(dis,process.extractOne(dis,sinmatchshp)) for dis in sorted(sinmatchcsv)]"
   ]
  },
  {
   "cell_type": "markdown",
   "id": "1f46c370",
   "metadata": {},
   "source": [
    "Diccionario de Cambios"
   ]
  },
  {
   "cell_type": "code",
   "execution_count": null,
   "id": "e872d7ca",
   "metadata": {},
   "outputs": [],
   "source": [
    "cambiosDataDis={dis:process.extractOne(dis,sinmatchshp)[0] for dis in sorted(sinmatchcsv)}"
   ]
  },
  {
   "cell_type": "markdown",
   "id": "940be9cd",
   "metadata": {},
   "source": [
    "Ejecutando cambios:"
   ]
  },
  {
   "cell_type": "code",
   "execution_count": null,
   "id": "d39fb674",
   "metadata": {},
   "outputs": [],
   "source": [
    "datadis.provDist.replace(cambiosDataDis,inplace=True)"
   ]
  },
  {
   "cell_type": "code",
   "execution_count": null,
   "id": "aaf53ed3",
   "metadata": {},
   "outputs": [],
   "source": [
    "datadis"
   ]
  },
  {
   "cell_type": "code",
   "execution_count": null,
   "id": "b1d3b077",
   "metadata": {},
   "outputs": [],
   "source": [
    "# anadiendo CSV al MAPA:\n",
    "datadismap=datadismap.merge(datadis, on='provDist')"
   ]
  },
  {
   "cell_type": "code",
   "execution_count": null,
   "id": "d6f48505",
   "metadata": {},
   "outputs": [],
   "source": [
    "# variables\n",
    "datadismap.columns"
   ]
  },
  {
   "cell_type": "markdown",
   "id": "4142c0b7",
   "metadata": {},
   "source": [
    "Eliminar columnas:"
   ]
  },
  {
   "cell_type": "code",
   "execution_count": null,
   "id": "ee2e517b",
   "metadata": {},
   "outputs": [],
   "source": [
    "sacar=['provDist', 'Ubigeo', 'Departamento', 'Provincia', 'Distrito',]\n",
    "datadismap.drop(sacar,axis=1,inplace=True)"
   ]
  },
  {
   "cell_type": "markdown",
   "id": "af692ae9",
   "metadata": {},
   "source": [
    "Limpieza de columnas:"
   ]
  },
  {
   "cell_type": "code",
   "execution_count": null,
   "id": "cdb2f7c8",
   "metadata": {},
   "outputs": [],
   "source": [
    "import re\n",
    "datadismap.columns=[re.sub(\"\\%$\",\"_pct\",col) for col in datadismap.columns]\n",
    "datadismap.columns=[re.sub(\"^\\%\",\"pct_\",col) for col in datadismap.columns]\n",
    "datadismap.columns=[re.sub(\"\\s\",\"_\",col) for col in datadismap.columns]"
   ]
  },
  {
   "cell_type": "code",
   "execution_count": null,
   "id": "1c133d13",
   "metadata": {},
   "outputs": [],
   "source": [
    "datadismap.columns"
   ]
  },
  {
   "cell_type": "markdown",
   "id": "a2ff93fc",
   "metadata": {},
   "source": [
    "Guardando file:"
   ]
  },
  {
   "cell_type": "code",
   "execution_count": null,
   "id": "83c97517",
   "metadata": {},
   "outputs": [],
   "source": [
    "datadismap.to_file(\"datadismap.gpkg\", layer='DISTRITO', driver=\"GPKG\")"
   ]
  },
  {
   "cell_type": "code",
   "execution_count": null,
   "id": "621a58e6",
   "metadata": {},
   "outputs": [],
   "source": []
  }
 ],
 "metadata": {
  "hide_input": false,
  "kernelspec": {
   "display_name": "Python 3 (ipykernel)",
   "language": "python",
   "name": "python3"
  },
  "language_info": {
   "codemirror_mode": {
    "name": "ipython",
    "version": 3
   },
   "file_extension": ".py",
   "mimetype": "text/x-python",
   "name": "python",
   "nbconvert_exporter": "python",
   "pygments_lexer": "ipython3",
   "version": "3.8.12"
  }
 },
 "nbformat": 4,
 "nbformat_minor": 5
}
